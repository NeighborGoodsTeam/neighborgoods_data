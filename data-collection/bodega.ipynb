{
 "cells": [
  {
   "cell_type": "code",
   "execution_count": 3,
   "id": "persistent-ordinance",
   "metadata": {},
   "outputs": [],
   "source": [
    "import requests\n",
    "import pandas as pd\n",
    "import functions\n",
    "import json\n",
    "\n",
    "from bs4 import BeautifulSoup\n",
    "from googlemaps import Client"
   ]
  },
  {
   "cell_type": "code",
   "execution_count": 6,
   "id": "alpha-stomach",
   "metadata": {},
   "outputs": [],
   "source": [
    "with open('./google_key.txt', 'r') as f:\n",
    "    google_key = f.read()\n",
    "\n",
    "google_api = Client(google_key)"
   ]
  },
  {
   "cell_type": "code",
   "execution_count": 7,
   "id": "palestinian-orbit",
   "metadata": {},
   "outputs": [],
   "source": [
    "place_search = google_api.places(\n",
    "    query='bodega',\n",
    "    location=(42.34618104569648, -71.08642778465776),\n",
    "    type='establishment'\n",
    ")"
   ]
  },
  {
   "cell_type": "code",
   "execution_count": 8,
   "id": "limited-newport",
   "metadata": {},
   "outputs": [],
   "source": [
    "place_result = place_search['results'][0]"
   ]
  },
  {
   "cell_type": "code",
   "execution_count": 9,
   "id": "impressive-static",
   "metadata": {
    "collapsed": true,
    "jupyter": {
     "outputs_hidden": true
    }
   },
   "outputs": [
    {
     "data": {
      "text/plain": [
       "{'business_status': 'OPERATIONAL',\n",
       " 'formatted_address': '6 Clearway St, Boston, MA 02115, United States',\n",
       " 'geometry': {'location': {'lat': 42.3454991, 'lng': -71.08647069999999},\n",
       "  'viewport': {'northeast': {'lat': 42.34680232989272,\n",
       "    'lng': -71.08513242010727},\n",
       "   'southwest': {'lat': 42.34410267010728, 'lng': -71.08783207989272}}},\n",
       " 'icon': 'https://maps.gstatic.com/mapfiles/place_api/icons/v1/png_71/shopping-71.png',\n",
       " 'name': 'Bodega',\n",
       " 'opening_hours': {'open_now': False},\n",
       " 'photos': [{'height': 3024,\n",
       "   'html_attributions': ['<a href=\"https://maps.google.com/maps/contrib/107593851285337979299\">Nicole Valk</a>'],\n",
       "   'photo_reference': 'ATtYBwKErrZYKfq-nolitaZAo6fF9c5jXzbZoVtlFeUsi99flaPOeba7dLguZbWWd-EFtc1CBDGBW4xFBP7LjqWFFt7PzjJ22aZ__cAzK_PvL6P14CBb-OFZLY-hEdnHJ9Uzg3iCAMzy4iGDB1fcDMDiAC_wGJITcT6IqgWjUc2hn3qIw40R',\n",
       "   'width': 4032}],\n",
       " 'place_id': 'ChIJsfeDiRp644kR3IMaIzButJE',\n",
       " 'plus_code': {'compound_code': '8WW7+5C Boston, Massachusetts',\n",
       "  'global_code': '87JC8WW7+5C'},\n",
       " 'price_level': 3,\n",
       " 'rating': 4.2,\n",
       " 'reference': 'ChIJsfeDiRp644kR3IMaIzButJE',\n",
       " 'types': ['shoe_store',\n",
       "  'supermarket',\n",
       "  'grocery_or_supermarket',\n",
       "  'food',\n",
       "  'point_of_interest',\n",
       "  'clothing_store',\n",
       "  'store',\n",
       "  'establishment'],\n",
       " 'user_ratings_total': 424}"
      ]
     },
     "execution_count": 9,
     "metadata": {},
     "output_type": "execute_result"
    }
   ],
   "source": [
    "place_result"
   ]
  },
  {
   "cell_type": "code",
   "execution_count": 10,
   "id": "professional-substance",
   "metadata": {},
   "outputs": [],
   "source": [
    "place_entry = functions.entry_from_google(place_result)"
   ]
  },
  {
   "cell_type": "code",
   "execution_count": 12,
   "id": "general-sweet",
   "metadata": {},
   "outputs": [],
   "source": [
    "place_entry['products'] = ['Shirts',\n",
    " 'Shoes',\n",
    " 'Shorts',\n",
    " 'Pants',\n",
    " 'Hats',\n",
    " 'Accessories',\n",
    " 'BODEGA',\n",
    " 'ACRONYM',\n",
    " 'ADIDAS',\n",
    " 'AIR JORDAN',\n",
    " 'BRAIN DEADCARHARTT W.I.P.',\n",
    " 'CAV EMPT',\n",
    " 'COMME DES GARÇONS PLAY',\n",
    " 'COMME DES GARÇONS SHIRT',\n",
    " 'CONVERSE',\n",
    " 'ENGINEERED GARMENTS',\n",
    " 'HUMAN MADE',\n",
    " 'JUNYA WATANABE',\n",
    " 'KAPITAL',\n",
    " 'NEEDLES',\n",
    " 'NEIGHBORHOOD',\n",
    " 'NEW BALANCE',\n",
    " 'NIKE',\n",
    " 'PLEASURES',\n",
    " 'STONE ISLAND',\n",
    " 'STÜSSY',\n",
    " 'UNDERCOVER',\n",
    " 'VAULT BY VANS',\n",
    " 'WACKO MARIA',\n",
    " 'ATHLETIC',\n",
    " 'CASUAL',\n",
    " 'BOOTS',\n",
    " 'SANDALS',\n",
    " \"WOMEN'S\",\n",
    " 'BOTTOMS',\n",
    " 'HOODIES & SWEATSHIRTS',\n",
    " 'KNITWEAR',\n",
    " 'OUTERWEAR',\n",
    " 'SHIRTS',\n",
    " 'SHORTS',\n",
    " 'T-SHIRTS & LONG SLEEVES',\n",
    " \"WOMEN'S\",\n",
    " 'BAGS',\n",
    " 'BODEGA EGIFT CARDBOOKDEGA',\n",
    " 'CLEANERS',\n",
    " 'EYEWEAR',\n",
    " 'FACE MASKS',\n",
    " 'HEADWEAR',\n",
    " 'HOME',\n",
    " 'JEWELRY',\n",
    " 'SCARVES & GLOVES',\n",
    " 'SOCKS',\n",
    " 'WALLETS & CASES',\n",
    " 'WATCHES',\n",
    " 'WELLNESS']"
   ]
  },
  {
   "cell_type": "markdown",
   "id": "bored-thompson",
   "metadata": {},
   "source": [
    "Thursday\n",
    "12–7PM\n",
    "\n",
    "Friday\n",
    "12–7PM\n",
    "\n",
    "Saturday\n",
    "12–7PM\n",
    "\n",
    "Sunday\n",
    "12–6PM\n",
    "\n",
    "Monday\n",
    "12–6PM\n",
    "\n",
    "Tuesday\n",
    "12–6PM\n",
    "\n",
    "Wednesday\n",
    "12–6PM"
   ]
  },
  {
   "cell_type": "code",
   "execution_count": 13,
   "id": "looking-canyon",
   "metadata": {},
   "outputs": [],
   "source": [
    "place_entry['phone'] = '+18668526334'\n",
    "place_entry['url'] = 'https://shop.bdgastore.com/'\n",
    "place_entry['description'] = 'Shoe, cap & sportswear retailer hidden behind an entrance disguised as a convenience store.'\n",
    "place_entry['hours'] = {\n",
    "    'Monday' : (12, 18),\n",
    "    'Tuesday' : (12, 18),\n",
    "    'Wednesday' : (12, 18),\n",
    "    'Thursday' : (12, 19),\n",
    "    'Friday' : (12, 19),\n",
    "    'Saturday' : (12, 19),\n",
    "    'Sunday' : (12, 18)\n",
    "}"
   ]
  },
  {
   "cell_type": "code",
   "execution_count": 14,
   "id": "initial-springfield",
   "metadata": {},
   "outputs": [],
   "source": [
    "name = 'bodgea'"
   ]
  },
  {
   "cell_type": "code",
   "execution_count": 16,
   "id": "right-subscriber",
   "metadata": {},
   "outputs": [],
   "source": [
    "with open('../sample-data/' + name + '.json', 'w') as f:\n",
    "    json.dump(place_entry, f)"
   ]
  }
 ],
 "metadata": {
  "kernelspec": {
   "display_name": "Python 3",
   "language": "python",
   "name": "python3"
  },
  "language_info": {
   "codemirror_mode": {
    "name": "ipython",
    "version": 3
   },
   "file_extension": ".py",
   "mimetype": "text/x-python",
   "name": "python",
   "nbconvert_exporter": "python",
   "pygments_lexer": "ipython3",
   "version": "3.7.9"
  }
 },
 "nbformat": 4,
 "nbformat_minor": 5
}
