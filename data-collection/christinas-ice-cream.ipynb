{
 "cells": [
  {
   "cell_type": "code",
   "execution_count": 1,
   "id": "regular-cooperative",
   "metadata": {},
   "outputs": [],
   "source": [
    "import requests\n",
    "import pandas as pd\n",
    "import functions\n",
    "import json\n",
    "\n",
    "from bs4 import BeautifulSoup\n",
    "from googlemaps import Client"
   ]
  },
  {
   "cell_type": "code",
   "execution_count": 2,
   "id": "sophisticated-juice",
   "metadata": {},
   "outputs": [],
   "source": [
    "res = requests.get('http://christinasicecream.com/flavor.html')"
   ]
  },
  {
   "cell_type": "code",
   "execution_count": 3,
   "id": "mediterranean-pioneer",
   "metadata": {},
   "outputs": [],
   "source": [
    "soup = BeautifulSoup(res.content)"
   ]
  },
  {
   "cell_type": "code",
   "execution_count": 9,
   "id": "occupational-concern",
   "metadata": {},
   "outputs": [],
   "source": [
    "catalog = [li.text for li in soup.find_all(name='li')]"
   ]
  },
  {
   "cell_type": "code",
   "execution_count": 10,
   "id": "desirable-arctic",
   "metadata": {},
   "outputs": [],
   "source": [
    "catalog.append('ice cream')"
   ]
  },
  {
   "cell_type": "code",
   "execution_count": 12,
   "id": "overhead-ability",
   "metadata": {},
   "outputs": [],
   "source": [
    "with open('./google_key.txt', 'r') as f:\n",
    "    google_key = f.read()\n",
    "\n",
    "google_api = Client(google_key)"
   ]
  },
  {
   "cell_type": "code",
   "execution_count": 13,
   "id": "synthetic-ribbon",
   "metadata": {},
   "outputs": [],
   "source": [
    "place_search = google_api.places(\n",
    "    query='ice cream',\n",
    "    location=(42.37401976094109, -71.09838928741394),\n",
    "    type='establishment'\n",
    ")"
   ]
  },
  {
   "cell_type": "code",
   "execution_count": 14,
   "id": "absent-module",
   "metadata": {},
   "outputs": [],
   "source": [
    "place_result = place_search['results'][0]"
   ]
  },
  {
   "cell_type": "code",
   "execution_count": 16,
   "id": "determined-cattle",
   "metadata": {},
   "outputs": [],
   "source": [
    "place_entry = functions.entry_from_google(place_result)"
   ]
  },
  {
   "cell_type": "code",
   "execution_count": 17,
   "id": "polished-qualification",
   "metadata": {},
   "outputs": [],
   "source": [
    "place_entry['products'] = catalog"
   ]
  },
  {
   "cell_type": "markdown",
   "id": "cloudy-talent",
   "metadata": {},
   "source": [
    "Thursday\n",
    "11:30AM–10:30PM\n",
    "\n",
    "Friday\n",
    "11:30AM–10:30PM\n",
    "\n",
    "Saturday\n",
    "11:30AM–10:30PM\n",
    "\n",
    "Sunday\n",
    "11:30AM–10:30PM\n",
    "\n",
    "Monday\n",
    "11:30AM–10:30PM\n",
    "\n",
    "Tuesday\n",
    "11:30AM–10:30PM\n",
    "\n",
    "Wednesday\n",
    "11:30AM–10:30PM"
   ]
  },
  {
   "cell_type": "code",
   "execution_count": 18,
   "id": "forty-anime",
   "metadata": {},
   "outputs": [],
   "source": [
    "place_entry['phone'] = '+16174927021'\n",
    "place_entry['url'] = 'http://christinasicecream.com/index.html'\n",
    "place_entry['description'] = 'Popular ice cream shop with an array of unique flavors, including ginger, carrot cake & Irish cream.'\n",
    "place_entry['hours'] = {\n",
    "    'Monday' : (11.5, 22.5),\n",
    "    'Tuesday' : (11.5, 22.5),\n",
    "    'Wednesday' : (11.5, 22.5),\n",
    "    'Thursday' : (11.5, 22.5),\n",
    "    'Friday' : (11.5, 22.5),\n",
    "    'Saturday' : (11.5, 22.5),\n",
    "    'Sunday' : (11.5, 22.5)\n",
    "}"
   ]
  },
  {
   "cell_type": "code",
   "execution_count": 19,
   "id": "underlying-assurance",
   "metadata": {},
   "outputs": [],
   "source": [
    "name = 'christinas-ice-cream'"
   ]
  },
  {
   "cell_type": "code",
   "execution_count": 20,
   "id": "growing-convergence",
   "metadata": {},
   "outputs": [],
   "source": [
    "with open('../sample-data/' + name + '.json', 'w') as f:\n",
    "    json.dump(place_entry, f)"
   ]
  }
 ],
 "metadata": {
  "kernelspec": {
   "display_name": "Python 3",
   "language": "python",
   "name": "python3"
  },
  "language_info": {
   "codemirror_mode": {
    "name": "ipython",
    "version": 3
   },
   "file_extension": ".py",
   "mimetype": "text/x-python",
   "name": "python",
   "nbconvert_exporter": "python",
   "pygments_lexer": "ipython3",
   "version": "3.7.9"
  }
 },
 "nbformat": 4,
 "nbformat_minor": 5
}
