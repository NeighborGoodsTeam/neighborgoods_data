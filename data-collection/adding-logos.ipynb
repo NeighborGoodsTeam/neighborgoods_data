{
 "cells": [
  {
   "cell_type": "code",
   "execution_count": 1,
   "id": "stupid-johnson",
   "metadata": {},
   "outputs": [],
   "source": [
    "import json"
   ]
  },
  {
   "cell_type": "code",
   "execution_count": 8,
   "id": "postal-updating",
   "metadata": {},
   "outputs": [],
   "source": [
    "def add_logo(name, image):\n",
    "    with open('../sample-data/' + name + '.json', 'r') as f:\n",
    "        j = json.load(f)\n",
    "    j.update({'logo' : image})\n",
    "    with open('../sample-data/' + name + '.json', 'w') as g:\n",
    "        json.dump(j, g)"
   ]
  },
  {
   "cell_type": "code",
   "execution_count": 10,
   "id": "fantastic-language",
   "metadata": {},
   "outputs": [],
   "source": [
    "add_logo('bodega', 'https://i.shgcdn.com/11db83d1-2760-4352-b7c4-2c6eca627d73/-/format/auto/-/preview/3000x3000/-/quality/lighter/')"
   ]
  },
  {
   "cell_type": "code",
   "execution_count": 11,
   "id": "exact-blowing",
   "metadata": {},
   "outputs": [],
   "source": [
    "add_logo('black-ink', 'https://media.timeout.com/images/105400218/630/472/image.jpg')"
   ]
  },
  {
   "cell_type": "code",
   "execution_count": 12,
   "id": "remarkable-large",
   "metadata": {},
   "outputs": [],
   "source": [
    "add_logo('christinas-ice-cream', 'https://lh3.googleusercontent.com/proxy/Nmel867V25ui7hqayYDM6AWSLXAEt5aaG4fujYyv8XflVdb8bQhLy6lzX5GCQvwnkCTTbG0nzrlW4a7GRu0Gl8cjnmdaJkYPrBodH5k')"
   ]
  },
  {
   "cell_type": "code",
   "execution_count": 13,
   "id": "boring-uncertainty",
   "metadata": {},
   "outputs": [],
   "source": [
    "add_logo('december-thieves', 'https://goop-img.com/wp-content/uploads/2018/05/11210494_1055128201165316_625825414315295368_n.jpg')"
   ]
  },
  {
   "cell_type": "code",
   "execution_count": 14,
   "id": "processed-preliminary",
   "metadata": {},
   "outputs": [],
   "source": [
    "add_logo('garment-district', 'https://upload.wikimedia.org/wikipedia/en/2/25/Garmdist.jpg')"
   ]
  },
  {
   "cell_type": "code",
   "execution_count": 16,
   "id": "horizontal-romance",
   "metadata": {},
   "outputs": [],
   "source": [
    "add_logo('loyal-supply-co', 'https://static.urbandaddy.com/uploads/assets/image/articles/standard/9e2f7dfa0361bce2ec5577a2f67c087f59c546f9.jpg')"
   ]
  },
  {
   "cell_type": "code",
   "execution_count": 17,
   "id": "adapted-wheat",
   "metadata": {},
   "outputs": [],
   "source": [
    "add_logo('ministry-of-supply', 'https://www.datocms-assets.com/16284/1573067155-front-of-store-overview-1.jpg?q=50&auto=format&dpr=1&w=315&h=315&fit=crop%20530w')"
   ]
  },
  {
   "cell_type": "code",
   "execution_count": 18,
   "id": "formal-table",
   "metadata": {},
   "outputs": [],
   "source": [
    "add_logo('niche', 'https://images.squarespace-cdn.com/content/v1/58c1fbe1197aea86abe504e0/1551279899928-D88X4DJFF34E1MDQ0GCX/ke17ZwdGBToddI8pDm48kEQgKKnlSqctogCD6vH2NfIUqsxRUqqbr1mOJYKfIPR7LoDQ9mXPOjoJoqy81S2I8N_N4V1vUb5AoIIIbLZhVYxCRW4BPu10St3TBAUQYVKcoOjovj0A95UVVwmBUgY94eqJrLTfpRStGEGJygp2FM0DrHaWAi7sTBXiYZmNsfPf/niche_44niche.jpg')"
   ]
  },
  {
   "cell_type": "code",
   "execution_count": 19,
   "id": "isolated-buffalo",
   "metadata": {},
   "outputs": [],
   "source": [
    "add_logo('olives-and-grace', 'https://cdn.shopify.com/s/files/1/1425/9972/t/9/assets/image_grid1.jpg?v=17316999957465894286')"
   ]
  },
  {
   "cell_type": "code",
   "execution_count": 20,
   "id": "prostate-chile",
   "metadata": {},
   "outputs": [],
   "source": [
    "add_logo('ouimillie', 'https://cdn.shopify.com/s/files/1/1028/5573/files/Screen_Shot_2021-03-11_at_5.02.29_PM_300x300.png?v=1615500166')"
   ]
  },
  {
   "cell_type": "code",
   "execution_count": 21,
   "id": "narrative-aurora",
   "metadata": {},
   "outputs": [],
   "source": [
    "add_logo('urban-hound', 'https://www.empoweringsmallbusiness.org/sites/default/files/styles/news__detail/public/images/2018-06/Urban-Hound-Rebecca-at-desk.jpg?h=34bbd072&itok=6XFC4O36')"
   ]
  }
 ],
 "metadata": {
  "kernelspec": {
   "display_name": "Python 3",
   "language": "python",
   "name": "python3"
  },
  "language_info": {
   "codemirror_mode": {
    "name": "ipython",
    "version": 3
   },
   "file_extension": ".py",
   "mimetype": "text/x-python",
   "name": "python",
   "nbconvert_exporter": "python",
   "pygments_lexer": "ipython3",
   "version": "3.7.9"
  }
 },
 "nbformat": 4,
 "nbformat_minor": 5
}
