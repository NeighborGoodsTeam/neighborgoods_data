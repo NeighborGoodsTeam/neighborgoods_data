{
 "cells": [
  {
   "cell_type": "code",
   "execution_count": 1,
   "id": "listed-palestinian",
   "metadata": {},
   "outputs": [],
   "source": [
    "import requests\n",
    "import pandas as pd\n",
    "import functions\n",
    "import json\n",
    "\n",
    "from bs4 import BeautifulSoup\n",
    "from googlemaps import Client"
   ]
  },
  {
   "cell_type": "code",
   "execution_count": 2,
   "id": "handled-health",
   "metadata": {},
   "outputs": [],
   "source": [
    "with open('./google_key.txt', 'r') as f:\n",
    "    google_key = f.read()\n",
    "\n",
    "google_api = Client(google_key)"
   ]
  },
  {
   "cell_type": "code",
   "execution_count": 3,
   "id": "promotional-while",
   "metadata": {},
   "outputs": [],
   "source": [
    "place_search = google_api.places(\n",
    "    query='niche',\n",
    "    location=(42.34344641538391, -71.0743539846598),\n",
    "    type='establishment'\n",
    ")"
   ]
  },
  {
   "cell_type": "code",
   "execution_count": 4,
   "id": "arranged-booking",
   "metadata": {},
   "outputs": [],
   "source": [
    "place_result = place_search['results'][0]"
   ]
  },
  {
   "cell_type": "code",
   "execution_count": 5,
   "id": "architectural-federal",
   "metadata": {},
   "outputs": [
    {
     "data": {
      "text/plain": [
       "{'business_status': 'OPERATIONAL',\n",
       " 'formatted_address': '619 Tremont St, Boston, MA 02118, United States',\n",
       " 'geometry': {'location': {'lat': 42.3427803, 'lng': -71.0743969},\n",
       "  'viewport': {'northeast': {'lat': 42.34403217989271,\n",
       "    'lng': -71.0729508201073},\n",
       "   'southwest': {'lat': 42.34133252010727, 'lng': -71.07565047989273}}},\n",
       " 'icon': 'https://maps.gstatic.com/mapfiles/place_api/icons/v1/png_71/shopping-71.png',\n",
       " 'name': 'niche',\n",
       " 'opening_hours': {'open_now': True},\n",
       " 'photos': [{'height': 3024,\n",
       "   'html_attributions': ['<a href=\"https://maps.google.com/maps/contrib/103461940104185098114\">Charlie Seo</a>'],\n",
       "   'photo_reference': 'ATtYBwI2bCCKAWHbSH9osttbyYPlhXJrUoF5T1qRLw6ve4NMtNSyzyJ_XPGa0K3reCjK34DZjTQXBg62d8ATJ25VXaItsiwn9kf2cTSG7l6YfBk0S26QA6_ZMuugOyeXDqUw4l1qxvoqvvGYYkJCXAVrw5e0lrdE-6wZsiyhcrshofgp2FjX',\n",
       "   'width': 4032}],\n",
       " 'place_id': 'ChIJ7ZijJRN644kR2QP3SMoeA70',\n",
       " 'plus_code': {'compound_code': '8WVG+46 Boston, Massachusetts',\n",
       "  'global_code': '87JC8WVG+46'},\n",
       " 'rating': 4.5,\n",
       " 'reference': 'ChIJ7ZijJRN644kR2QP3SMoeA70',\n",
       " 'types': ['point_of_interest', 'store', 'establishment'],\n",
       " 'user_ratings_total': 69}"
      ]
     },
     "execution_count": 5,
     "metadata": {},
     "output_type": "execute_result"
    }
   ],
   "source": [
    "place_result"
   ]
  },
  {
   "cell_type": "code",
   "execution_count": 6,
   "id": "rising-wyoming",
   "metadata": {},
   "outputs": [],
   "source": [
    "place_entry = functions.entry_from_google(place_result)"
   ]
  },
  {
   "cell_type": "code",
   "execution_count": 25,
   "id": "rational-wildlife",
   "metadata": {},
   "outputs": [],
   "source": [
    "catalog = pd.read_csv('niche-sample-inventory.csv')['product-name']"
   ]
  },
  {
   "cell_type": "code",
   "execution_count": 27,
   "id": "extensive-reproduction",
   "metadata": {},
   "outputs": [],
   "source": [
    "place_entry['products'] = list(catalog)"
   ]
  },
  {
   "cell_type": "markdown",
   "id": "valuable-passing",
   "metadata": {},
   "source": [
    "Thursday\n",
    "11AM–5PM\n",
    "\n",
    "Friday\n",
    "11AM–5PM\n",
    "\n",
    "Saturday\n",
    "10AM–4PM\n",
    "\n",
    "Sunday\n",
    "10AM–4PM\n",
    "\n",
    "Monday\n",
    "Closed\n",
    "\n",
    "Tuesday\n",
    "Closed\n",
    "\n",
    "Wednesday\n",
    "11AM–5PM"
   ]
  },
  {
   "cell_type": "code",
   "execution_count": 28,
   "id": "radio-fisher",
   "metadata": {},
   "outputs": [],
   "source": [
    "place_entry['phone'] = '+18577534294'\n",
    "place_entry['url'] = 'https://www.nicheplantshop.com/'\n",
    "place_entry['description'] = 'Cool store selling small, decorative potted plants & flowers, plus container gardening supplies.'\n",
    "place_entry['hours'] = {\n",
    "    'Monday' : 'Closed',\n",
    "    'Tuesday' : 'Closed',\n",
    "    'Wednesday' : (11, 17),\n",
    "    'Thursday' : (11, 17),\n",
    "    'Friday' : (11, 17),\n",
    "    'Saturday' : (10, 16),\n",
    "    'Sunday' : (10, 16)\n",
    "}"
   ]
  },
  {
   "cell_type": "code",
   "execution_count": 30,
   "id": "fiscal-airline",
   "metadata": {},
   "outputs": [],
   "source": [
    "name = 'niche'"
   ]
  },
  {
   "cell_type": "code",
   "execution_count": 31,
   "id": "honest-muslim",
   "metadata": {},
   "outputs": [],
   "source": [
    "with open('../sample-data/' + name + '.json', 'w') as f:\n",
    "    json.dump(place_entry, f)"
   ]
  }
 ],
 "metadata": {
  "kernelspec": {
   "display_name": "Python 3",
   "language": "python",
   "name": "python3"
  },
  "language_info": {
   "codemirror_mode": {
    "name": "ipython",
    "version": 3
   },
   "file_extension": ".py",
   "mimetype": "text/x-python",
   "name": "python",
   "nbconvert_exporter": "python",
   "pygments_lexer": "ipython3",
   "version": "3.7.9"
  }
 },
 "nbformat": 4,
 "nbformat_minor": 5
}
