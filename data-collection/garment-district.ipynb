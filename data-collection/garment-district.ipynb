{
 "cells": [
  {
   "cell_type": "code",
   "execution_count": 1,
   "id": "korean-breed",
   "metadata": {},
   "outputs": [],
   "source": [
    "import requests\n",
    "import pandas as pd\n",
    "import functions\n",
    "import json\n",
    "\n",
    "from bs4 import BeautifulSoup\n",
    "from googlemaps import Client"
   ]
  },
  {
   "cell_type": "code",
   "execution_count": 2,
   "id": "continued-quick",
   "metadata": {},
   "outputs": [],
   "source": [
    "res = requests.get('https://garmentdistrict.com/departments/')"
   ]
  },
  {
   "cell_type": "code",
   "execution_count": 3,
   "id": "indoor-sequence",
   "metadata": {},
   "outputs": [],
   "source": [
    "soup = BeautifulSoup(res.content)"
   ]
  },
  {
   "cell_type": "code",
   "execution_count": 4,
   "id": "actual-validity",
   "metadata": {},
   "outputs": [],
   "source": [
    "catalog = [div.text for div in soup.find_all(name='div', attrs={'class' : 'headerl'})]"
   ]
  },
  {
   "cell_type": "code",
   "execution_count": 5,
   "id": "roman-challenge",
   "metadata": {
    "collapsed": true,
    "jupyter": {
     "outputs_hidden": true
    }
   },
   "outputs": [
    {
     "data": {
      "text/plain": [
       "['Today’s Clothes, Yesterday’s Prices',\n",
       " 'Women',\n",
       " 'Men',\n",
       " 'Designer',\n",
       " 'New',\n",
       " 'Kids',\n",
       " 'Fashionable footwear',\n",
       " 'Cowboy Boots',\n",
       " 'Used Shoes',\n",
       " 'Designer Shoes',\n",
       " 'New Shoes',\n",
       " 'Finishing Flourishes',\n",
       " 'Purses & Bags',\n",
       " 'Ties & Suspenders',\n",
       " 'Sunglasses',\n",
       " 'Hats & Hair Accessories',\n",
       " 'Jewelry',\n",
       " 'Scarves & Shawls',\n",
       " 'Hosiery',\n",
       " 'Timeless Vintage Fashions',\n",
       " '1970’s',\n",
       " '1960’s',\n",
       " '1950’s & Earlier',\n",
       " 'New Wave, Grunge, & More',\n",
       " '1990’s',\n",
       " '1980’s',\n",
       " 'Decades Designer',\n",
       " 'Boston’s best costumes since 1965!',\n",
       " 'A unique and fun way to shop for clothing!',\n",
       " 'It\\xa0all started in the 80’s.']"
      ]
     },
     "execution_count": 5,
     "metadata": {},
     "output_type": "execute_result"
    }
   ],
   "source": [
    "catalog"
   ]
  },
  {
   "cell_type": "code",
   "execution_count": 6,
   "id": "seasonal-latter",
   "metadata": {},
   "outputs": [],
   "source": [
    "with open('./google_key.txt', 'r') as f:\n",
    "    google_key = f.read()\n",
    "\n",
    "google_api = Client(google_key)"
   ]
  },
  {
   "cell_type": "code",
   "execution_count": 7,
   "id": "technological-yorkshire",
   "metadata": {},
   "outputs": [],
   "source": [
    "place_search = google_api.places(\n",
    "    query='garment',\n",
    "    location=(42.3660705474331, -71.09283797328952),\n",
    "    type='establishment'\n",
    ")"
   ]
  },
  {
   "cell_type": "code",
   "execution_count": 8,
   "id": "worthy-apollo",
   "metadata": {},
   "outputs": [],
   "source": [
    "place_result = place_search['results'][0]"
   ]
  },
  {
   "cell_type": "code",
   "execution_count": 10,
   "id": "supreme-barcelona",
   "metadata": {},
   "outputs": [],
   "source": [
    "place_entry = functions.entry_from_google(place_result)"
   ]
  },
  {
   "cell_type": "code",
   "execution_count": 11,
   "id": "tracked-hybrid",
   "metadata": {},
   "outputs": [],
   "source": [
    "place_entry['products'] = catalog"
   ]
  },
  {
   "cell_type": "markdown",
   "id": "romantic-great",
   "metadata": {},
   "source": [
    "Thursday\n",
    "11AM–7PM\n",
    "\n",
    "Friday\n",
    "11AM–8PM\n",
    "\n",
    "Saturday\n",
    "11AM–7PM\n",
    "\n",
    "Sunday\n",
    "11AM–7PM\n",
    "\n",
    "Monday\n",
    "11AM–7PM\n",
    "\n",
    "Tuesday\n",
    "11AM–7PM\n",
    "\n",
    "Wednesday\n",
    "11AM–7PM"
   ]
  },
  {
   "cell_type": "code",
   "execution_count": 12,
   "id": "handled-classics",
   "metadata": {},
   "outputs": [],
   "source": [
    "place_entry['phone'] = '+16178765230'\n",
    "place_entry['url'] = 'https://garmentdistrict.com/'\n",
    "place_entry['description'] = 'Sprawling store offering new & used apparel, including vintage pieces, for men & women.'\n",
    "place_entry['hours'] = {\n",
    "    'Monday' : (11, 19),\n",
    "    'Tuesday' : (11, 19),\n",
    "    'Wednesday' : (11, 19),\n",
    "    'Thursday' : (11, 19),\n",
    "    'Friday' : (11, 20),\n",
    "    'Saturday' : (11, 19),\n",
    "    'Sunday' : (11, 19)\n",
    "}"
   ]
  },
  {
   "cell_type": "code",
   "execution_count": 13,
   "id": "differential-sampling",
   "metadata": {},
   "outputs": [],
   "source": [
    "name = 'garment-district'"
   ]
  },
  {
   "cell_type": "code",
   "execution_count": 15,
   "id": "subtle-norwegian",
   "metadata": {},
   "outputs": [],
   "source": [
    "with open('../sample-data/' + name + '.json', 'w') as f:\n",
    "    json.dump(place_entry, f)"
   ]
  }
 ],
 "metadata": {
  "kernelspec": {
   "display_name": "Python 3",
   "language": "python",
   "name": "python3"
  },
  "language_info": {
   "codemirror_mode": {
    "name": "ipython",
    "version": 3
   },
   "file_extension": ".py",
   "mimetype": "text/x-python",
   "name": "python",
   "nbconvert_exporter": "python",
   "pygments_lexer": "ipython3",
   "version": "3.7.9"
  }
 },
 "nbformat": 4,
 "nbformat_minor": 5
}
