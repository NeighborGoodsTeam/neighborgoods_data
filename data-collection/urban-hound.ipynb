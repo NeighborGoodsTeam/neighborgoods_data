{
 "cells": [
  {
   "cell_type": "code",
   "execution_count": 1,
   "id": "developing-leonard",
   "metadata": {},
   "outputs": [],
   "source": [
    "import requests\n",
    "import pandas as pd\n",
    "import functions\n",
    "import json\n",
    "\n",
    "from bs4 import BeautifulSoup\n",
    "from googlemaps import Client"
   ]
  },
  {
   "cell_type": "code",
   "execution_count": 2,
   "id": "ceramic-jamaica",
   "metadata": {},
   "outputs": [],
   "source": [
    "res = requests.get('https://urbanhounds.com/')"
   ]
  },
  {
   "cell_type": "code",
   "execution_count": 3,
   "id": "expensive-trademark",
   "metadata": {},
   "outputs": [],
   "source": [
    "soup = BeautifulSoup(res.content)"
   ]
  },
  {
   "cell_type": "code",
   "execution_count": 6,
   "id": "invalid-mumbai",
   "metadata": {},
   "outputs": [],
   "source": [
    "catalog = [h3.text for h3 in soup.find_all(name='h3')]"
   ]
  },
  {
   "cell_type": "code",
   "execution_count": 7,
   "id": "loving-radar",
   "metadata": {},
   "outputs": [],
   "source": [
    "with open('./google_key.txt', 'r') as f:\n",
    "    google_key = f.read()\n",
    "\n",
    "google_api = Client(google_key)"
   ]
  },
  {
   "cell_type": "code",
   "execution_count": 11,
   "id": "therapeutic-feedback",
   "metadata": {},
   "outputs": [],
   "source": [
    "place_search = google_api.places(\n",
    "    query='hound',\n",
    "    location=(42.33942893134882, -71.06616626175301),\n",
    "    type='establishment'\n",
    ")"
   ]
  },
  {
   "cell_type": "code",
   "execution_count": 12,
   "id": "developed-history",
   "metadata": {},
   "outputs": [],
   "source": [
    "place_result = place_search['results'][0]"
   ]
  },
  {
   "cell_type": "code",
   "execution_count": 14,
   "id": "beginning-mixture",
   "metadata": {},
   "outputs": [],
   "source": [
    "place_entry = functions.entry_from_google(place_result)"
   ]
  },
  {
   "cell_type": "code",
   "execution_count": 15,
   "id": "incident-reset",
   "metadata": {},
   "outputs": [],
   "source": [
    "place_entry['products'] = catalog"
   ]
  },
  {
   "cell_type": "markdown",
   "id": "cordless-sacramento",
   "metadata": {},
   "source": [
    "Thursday\n",
    "7AM–6PM\n",
    "\n",
    "Friday\n",
    "7AM–6PM\n",
    "\n",
    "Saturday\n",
    "8AM–5PM\n",
    "\n",
    "Sunday\n",
    "8AM–5PM\n",
    "\n",
    "Monday\n",
    "7AM–6PM\n",
    "\n",
    "Tuesday\n",
    "7AM–6PM\n",
    "\n",
    "Wednesday\n",
    "7AM–6PM"
   ]
  },
  {
   "cell_type": "code",
   "execution_count": 16,
   "id": "finished-position",
   "metadata": {},
   "outputs": [],
   "source": [
    "place_entry['phone'] = '+16177555775'\n",
    "place_entry['email'] = 'info@urbanhounds.com'\n",
    "place_entry['url'] = 'https://urbanhounds.com/'\n",
    "place_entry['description'] = 'The Urban Hound is Boston’s premier full-service dog care facility. We offer daycare, boarding, walking, grooming, and training.'\n",
    "place_entry['hours'] = {\n",
    "    'Monday' : (7, 18),\n",
    "    'Tuesday' : (7, 18),\n",
    "    'Wednesday' : (7, 18),\n",
    "    'Thursday' : (7, 18),\n",
    "    'Friday' : (7, 18),\n",
    "    'Saturday' : (8, 17),\n",
    "    'Sunday' : (8, 17)\n",
    "}"
   ]
  },
  {
   "cell_type": "code",
   "execution_count": 17,
   "id": "vocal-revision",
   "metadata": {},
   "outputs": [],
   "source": [
    "name = 'urban-hound'"
   ]
  },
  {
   "cell_type": "code",
   "execution_count": 18,
   "id": "finite-width",
   "metadata": {
    "collapsed": true,
    "jupyter": {
     "outputs_hidden": true
    }
   },
   "outputs": [
    {
     "data": {
      "text/plain": [
       "{'id': 'ChIJ2fWkSml644kRwruRuyJIiIg',\n",
       " 'name': 'The Urban Hound Hotel & Daycare',\n",
       " 'categories': ['point_of_interest', 'establishment'],\n",
       " 'address1': '129 Malden St',\n",
       " 'address2': None,\n",
       " 'city': 'Boston',\n",
       " 'state': 'MA',\n",
       " 'zip_code': '02118',\n",
       " 'latitude': 42.3392825,\n",
       " 'longitude': -71.0661902,\n",
       " 'phone': '+16177555775',\n",
       " 'url': 'https://urbanhounds.com/',\n",
       " 'email': 'info@urbanhounds.com',\n",
       " 'hours': {'Monday': (7, 18),\n",
       "  'Tuesday': (7, 18),\n",
       "  'Wednesday': (7, 18),\n",
       "  'Thursday': (7, 18),\n",
       "  'Friday': (7, 18),\n",
       "  'Saturday': (8, 17),\n",
       "  'Sunday': (8, 17)},\n",
       " 'description': 'The Urban Hound is Boston’s premier full-service dog care facility. We offer daycare, boarding, walking, grooming, and training.',\n",
       " 'owner': None,\n",
       " 'products': ['WALKS', 'TRAINING', 'HOTEL', 'DAYCARE', 'GROOMING']}"
      ]
     },
     "execution_count": 18,
     "metadata": {},
     "output_type": "execute_result"
    }
   ],
   "source": [
    "place_entry"
   ]
  },
  {
   "cell_type": "code",
   "execution_count": 19,
   "id": "cardiovascular-motorcycle",
   "metadata": {},
   "outputs": [],
   "source": [
    "with open('../sample-data/' + name + '.json', 'w') as f:\n",
    "    json.dump(place_entry, f)"
   ]
  }
 ],
 "metadata": {
  "kernelspec": {
   "display_name": "Python 3",
   "language": "python",
   "name": "python3"
  },
  "language_info": {
   "codemirror_mode": {
    "name": "ipython",
    "version": 3
   },
   "file_extension": ".py",
   "mimetype": "text/x-python",
   "name": "python",
   "nbconvert_exporter": "python",
   "pygments_lexer": "ipython3",
   "version": "3.7.9"
  }
 },
 "nbformat": 4,
 "nbformat_minor": 5
}
