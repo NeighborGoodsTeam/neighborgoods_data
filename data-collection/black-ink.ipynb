{
 "cells": [
  {
   "cell_type": "code",
   "execution_count": 1,
   "id": "alive-stationery",
   "metadata": {},
   "outputs": [],
   "source": [
    "import requests\n",
    "import pandas as pd\n",
    "import functions\n",
    "import json\n",
    "\n",
    "from bs4 import BeautifulSoup\n",
    "from googlemaps import Client"
   ]
  },
  {
   "cell_type": "code",
   "execution_count": 2,
   "id": "pursuant-spice",
   "metadata": {},
   "outputs": [],
   "source": [
    "res_list = [requests.get('https://www.blackinkboston.com/collections/all?page=2' + str(i)) for i in range(1, 30)]"
   ]
  },
  {
   "cell_type": "code",
   "execution_count": 4,
   "id": "weird-beginning",
   "metadata": {},
   "outputs": [],
   "source": [
    "soup_list = [BeautifulSoup(res.content) for res in res_list]"
   ]
  },
  {
   "cell_type": "code",
   "execution_count": 7,
   "id": "advanced-opposition",
   "metadata": {},
   "outputs": [],
   "source": [
    "item_lists = [[div.text for div in soup.find_all(name='div', attrs={'class' : 'h4 grid-view-item__title product-card__title'})] for soup in soup_list]"
   ]
  },
  {
   "cell_type": "code",
   "execution_count": 8,
   "id": "sufficient-airport",
   "metadata": {
    "collapsed": true,
    "jupyter": {
     "outputs_hidden": true
    }
   },
   "outputs": [
    {
     "data": {
      "text/plain": [
       "[['Round Boston Tray',\n",
       "  'Round Dice (Set of 3)',\n",
       "  'Ruth Bader Ginsburg Mug',\n",
       "  'Safari Friends Stuffed Animal',\n",
       "  'Salmon Roe Chopstick Rest',\n",
       "  'Salt Box',\n",
       "  'Samurai Chopstick Rest',\n",
       "  'Saucepan Brush',\n",
       "  'Schnook Cabinet Hooks',\n",
       "  'School House Pencil Sharpener',\n",
       "  'Screwdriver Keyring Set',\n",
       "  'Sea Salt Hand Creme',\n",
       "  'Sea Salt Hand Creme - Travel Size',\n",
       "  'Sea Salt Hand Sanitizer',\n",
       "  'Sea Salt Soap',\n",
       "  'Sea Salt Soap and Saver'],\n",
       " ['Shorthand Task Pad',\n",
       "  'Silicone Bottle Stopper (Set of 5)',\n",
       "  'Silly Putty (Set of 4)',\n",
       "  'Silver Cheese Knife & Spreader Set',\n",
       "  'Simple Fruit',\n",
       "  'Simply Bento Cookbook',\n",
       "  \"Simply Calligraphy: A Beginner's Guide to Elegant Lettering\",\n",
       "  'Sitting Cat Kitchen Sponge',\n",
       "  'Skoy Scrubber Pads',\n",
       "  'Slate Coasters Set of 4',\n",
       "  'Sleeping Animal Dish',\n",
       "  'Sleeping Totoro Plush',\n",
       "  'Slinky',\n",
       "  'Small Snake Blocks',\n",
       "  'Smiling Totoro',\n",
       "  'Snatch-It Word Game'],\n",
       " ['Snowy Mug',\n",
       "  'So Many Planner Stickers',\n",
       "  'So Many Stickers',\n",
       "  'Speicher Money Clip',\n",
       "  'Spin Rings: Magnetic Free-Style Rings',\n",
       "  'Square Cheese Slate',\n",
       "  'Stacking Mug',\n",
       "  'Stainless Steel Chopsticks',\n",
       "  'Stainless Steel Recipe Holder',\n",
       "  'Stampville',\n",
       "  'Stanley Bi-Fold Wallet',\n",
       "  'Starcube',\n",
       "  'Starfish Hair Catcher',\n",
       "  'Starr-X Bottle Opener',\n",
       "  'Stoneware Cellar with Mini Teak Spoon',\n",
       "  'Stoneware Container with Acacia Wood Lid - Large'],\n",
       " ['Stoneware Container with Acacia Wood Lid - Medium',\n",
       "  'Stoneware Container with Acacia Wood Lid - Small',\n",
       "  'Stowit Mini Storage Box',\n",
       "  'Stump Garden Cultivation Kit',\n",
       "  'Super Clips - Box of 15',\n",
       "  'Susan B Anthony Pin',\n",
       "  'Sushi Mug',\n",
       "  'Sushi Socks',\n",
       "  'Swedish Dishcloth',\n",
       "  'Sweet',\n",
       "  'Table Tiles Coasters',\n",
       "  'Takenaka Bento Box',\n",
       "  'Tattly Scented Temporary Tattoo Pack - Bouquet Garni Set',\n",
       "  'Tattly Scented Temporary Tattoo Pack - Perennial Set',\n",
       "  'Tattly Temporary Tattoo Pack - Farmers Market Set',\n",
       "  'Tea 2-in-1 Tea Infuser and Spoon'],\n",
       " ['Tea Leaf Origami Paper Pack',\n",
       "  'Teacup Plate',\n",
       "  'Tesuki Origami Set',\n",
       "  \"Texas Hold'em Poker Set\",\n",
       "  'The 50 States Activity Book',\n",
       "  'The Adventures of Tintin Volume Series',\n",
       "  'The History of Space Travel Playing Cards',\n",
       "  'The Human Body Coloring Book',\n",
       "  'The Ink Works Pen Set',\n",
       "  'The One Peaceful World Cookbook',\n",
       "  'The Original Gay Bar',\n",
       "  'The Pencil Perfect',\n",
       "  'The Perfection of the Paper Clip',\n",
       "  'The Rider Tarot Deck',\n",
       "  'Tintin - Snowy Paperback Notebook',\n",
       "  'Tintin Hardcover Notebook'],\n",
       " ['Tintin Mug',\n",
       "  'Tintin Poster',\n",
       "  'Tiny Origami (Set of 2)',\n",
       "  'To Do List Sticky Notes',\n",
       "  'Tobacco Barn Scented Candle',\n",
       "  'Tokyo Pop-Up Book',\n",
       "  'Tokyo Travel Sketchbook',\n",
       "  'Toolbox - Blue',\n",
       "  'Toolbox - Red',\n",
       "  'Toolbox Organizer - Large',\n",
       "  'Toolbox Organizer - Small',\n",
       "  'Tosca Pen Stand',\n",
       "  'Totoro Backpack',\n",
       "  'Totoro On Leaf',\n",
       "  'Totoro Tree Trunk Plush',\n",
       "  'Tower Accessories Tray'],\n",
       " ['Tower Desk Bar',\n",
       "  'Tower Sanitary Tray',\n",
       "  'Tower Slim Toothbrush Stand',\n",
       "  'Tower Toothbrush Stand',\n",
       "  'Travel Bingo',\n",
       "  'Trigonometry Ratios Mug',\n",
       "  'Trio Tea Timer',\n",
       "  'Tsubo Stress Therapy Massager',\n",
       "  'Upcycled Rubber Laptop Sleeve',\n",
       "  'Uppercase Lowercase Blocks',\n",
       "  'Utility Pole Markers',\n",
       "  'Varsity Fountain Pen',\n",
       "  'Vegetables Cup',\n",
       "  'Vintage Apron',\n",
       "  'Vintage Cotton Napkins',\n",
       "  'Vintage Ephemera'],\n",
       " ['Vintage Multi Pen',\n",
       "  'Vintage Numbers Rubber Stamps Set',\n",
       "  'Vintage Tea Towel',\n",
       "  'Vitamin C Arctic Cloudberry Exfoliating Soap Bar',\n",
       "  'Votes For Women Flashcards',\n",
       "  'Warm White Bottle Lights',\n",
       "  'Watercolor Paint Pods',\n",
       "  'Whale Cheese Spreader Set of 4',\n",
       "  'Whale Squirter',\n",
       "  \"Whale's Tail Bottle Opener\",\n",
       "  'White Ceramic Mug',\n",
       "  'White Sage Bundle Smudge Stick',\n",
       "  'Who Am I Quiz',\n",
       "  'Women in Science Perpetual Calendar',\n",
       "  'Wood Covered Notebook',\n",
       "  'Wooden Lacing Sheep'],\n",
       " ['Wooden Party Animal',\n",
       "  'Word Search Puzzle',\n",
       "  \"Yellow Owl's Little Prints\",\n",
       "  'You Are Beautiful Sticker Pack',\n",
       "  'Zero Japan Ceramic Canister with Spoon'],\n",
       " [],\n",
       " [],\n",
       " [],\n",
       " [],\n",
       " [],\n",
       " [],\n",
       " [],\n",
       " [],\n",
       " [],\n",
       " [],\n",
       " [],\n",
       " [],\n",
       " [],\n",
       " [],\n",
       " [],\n",
       " [],\n",
       " [],\n",
       " [],\n",
       " [],\n",
       " []]"
      ]
     },
     "execution_count": 8,
     "metadata": {},
     "output_type": "execute_result"
    }
   ],
   "source": [
    "item_lists"
   ]
  },
  {
   "cell_type": "code",
   "execution_count": 9,
   "id": "polish-dakota",
   "metadata": {},
   "outputs": [],
   "source": [
    "catalog = []\n",
    "\n",
    "for item_list in item_lists:\n",
    "    for item in item_list:\n",
    "        catalog.append(item)"
   ]
  },
  {
   "cell_type": "code",
   "execution_count": 12,
   "id": "expired-sally",
   "metadata": {},
   "outputs": [],
   "source": [
    "with open('./google_key.txt', 'r') as f:\n",
    "    google_key = f.read()\n",
    "\n",
    "google_api = Client(google_key)"
   ]
  },
  {
   "cell_type": "code",
   "execution_count": 13,
   "id": "formed-latex",
   "metadata": {},
   "outputs": [],
   "source": [
    "place_search = google_api.places(\n",
    "    query='ink',\n",
    "    location=(42.35921316560348, -71.0705725597949),\n",
    "    type='establishment'\n",
    ")"
   ]
  },
  {
   "cell_type": "code",
   "execution_count": 16,
   "id": "conventional-costs",
   "metadata": {},
   "outputs": [],
   "source": [
    "place_result = place_search['results'][0]"
   ]
  },
  {
   "cell_type": "code",
   "execution_count": 17,
   "id": "crude-monroe",
   "metadata": {},
   "outputs": [],
   "source": [
    "place_entry = functions.entry_from_google(place_result)"
   ]
  },
  {
   "cell_type": "code",
   "execution_count": 18,
   "id": "acting-excuse",
   "metadata": {},
   "outputs": [],
   "source": [
    "place_entry['products'] = catalog"
   ]
  },
  {
   "cell_type": "markdown",
   "id": "assured-fiber",
   "metadata": {},
   "source": [
    "Thursday\n",
    "12–5PM\n",
    "\n",
    "Friday\n",
    "11AM–6PM\n",
    "\n",
    "Saturday\n",
    "11AM–6PM\n",
    "\n",
    "Sunday\n",
    "12–5PM\n",
    "\n",
    "Monday\n",
    "12–5PM\n",
    "\n",
    "Tuesday\n",
    "12–5PM\n",
    "\n",
    "Wednesday\n",
    "12–5PM"
   ]
  },
  {
   "cell_type": "code",
   "execution_count": 21,
   "id": "stuck-writing",
   "metadata": {},
   "outputs": [],
   "source": [
    "place_entry['phone'] = '+16177233883'\n",
    "place_entry['url'] = 'https://www.blackinkboston.com/'\n",
    "place_entry['description'] = 'Greeting cards, wrapping paper & a range of unique gifts fill this charming, pint-sized shop.'\n",
    "place_entry['hours'] = {\n",
    "    'Monday' : (12, 17),\n",
    "    'Tuesday' : (12, 17),\n",
    "    'Wednesday' : (12, 17),\n",
    "    'Thursday' : (12, 17),\n",
    "    'Friday' : (11, 18),\n",
    "    'Saturday' : (11, 18),\n",
    "    'Sunday' : (12, 17)\n",
    "}"
   ]
  },
  {
   "cell_type": "code",
   "execution_count": 23,
   "id": "postal-lotus",
   "metadata": {},
   "outputs": [],
   "source": [
    "name = 'black-ink'"
   ]
  },
  {
   "cell_type": "code",
   "execution_count": 25,
   "id": "uniform-breakfast",
   "metadata": {},
   "outputs": [],
   "source": [
    "with open('../sample-data/' + name + '.json', 'w') as f:\n",
    "    json.dump(place_entry, f)"
   ]
  }
 ],
 "metadata": {
  "kernelspec": {
   "display_name": "Python 3",
   "language": "python",
   "name": "python3"
  },
  "language_info": {
   "codemirror_mode": {
    "name": "ipython",
    "version": 3
   },
   "file_extension": ".py",
   "mimetype": "text/x-python",
   "name": "python",
   "nbconvert_exporter": "python",
   "pygments_lexer": "ipython3",
   "version": "3.7.9"
  }
 },
 "nbformat": 4,
 "nbformat_minor": 5
}
