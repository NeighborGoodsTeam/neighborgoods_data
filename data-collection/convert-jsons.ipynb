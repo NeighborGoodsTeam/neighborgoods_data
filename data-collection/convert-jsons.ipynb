{
 "cells": [
  {
   "cell_type": "code",
   "execution_count": 1,
   "id": "strong-basis",
   "metadata": {},
   "outputs": [],
   "source": [
    "import json"
   ]
  },
  {
   "cell_type": "code",
   "execution_count": 10,
   "id": "senior-citizenship",
   "metadata": {},
   "outputs": [],
   "source": [
    "def convert(name):\n",
    "    with open('../sample-data/' + name + '.json', 'r') as f:\n",
    "        j = json.load(f)\n",
    "    j['addressOne'] = j.pop('address1')\n",
    "    j['addressTwo'] = j.pop('address2')\n",
    "    j['zipCode'] = j.pop('zip_code')\n",
    "    j['industry'] = j.pop('categories')\n",
    "    j['website'] = j.pop('url')\n",
    "    j['inventory'] = j.pop('products')\n",
    "    with open('../sample-data/' + name + '.json', 'w') as g:\n",
    "        json.dump(j, g)"
   ]
  },
  {
   "cell_type": "code",
   "execution_count": 11,
   "id": "stable-arrow",
   "metadata": {},
   "outputs": [],
   "source": [
    "convert('black-ink')"
   ]
  },
  {
   "cell_type": "code",
   "execution_count": 12,
   "id": "colored-organization",
   "metadata": {},
   "outputs": [],
   "source": [
    "convert('bodega')"
   ]
  },
  {
   "cell_type": "code",
   "execution_count": 13,
   "id": "unnecessary-athens",
   "metadata": {},
   "outputs": [],
   "source": [
    "convert('christinas-ice-cream')"
   ]
  },
  {
   "cell_type": "code",
   "execution_count": 14,
   "id": "given-quarterly",
   "metadata": {},
   "outputs": [],
   "source": [
    "convert('december-thieves')"
   ]
  },
  {
   "cell_type": "code",
   "execution_count": 15,
   "id": "random-liverpool",
   "metadata": {},
   "outputs": [],
   "source": [
    "convert('garment-district')"
   ]
  },
  {
   "cell_type": "code",
   "execution_count": 16,
   "id": "blank-blind",
   "metadata": {},
   "outputs": [],
   "source": [
    "convert('loyal-supply-co')"
   ]
  },
  {
   "cell_type": "code",
   "execution_count": 17,
   "id": "advisory-registration",
   "metadata": {},
   "outputs": [],
   "source": [
    "convert('ministry-of-supply')"
   ]
  },
  {
   "cell_type": "code",
   "execution_count": 18,
   "id": "athletic-maple",
   "metadata": {},
   "outputs": [],
   "source": [
    "convert('niche')"
   ]
  },
  {
   "cell_type": "code",
   "execution_count": 19,
   "id": "geographic-vintage",
   "metadata": {},
   "outputs": [],
   "source": [
    "convert('olives-and-grace')"
   ]
  },
  {
   "cell_type": "code",
   "execution_count": 20,
   "id": "federal-commission",
   "metadata": {},
   "outputs": [],
   "source": [
    "convert('ouimillie')"
   ]
  },
  {
   "cell_type": "code",
   "execution_count": 21,
   "id": "artistic-porter",
   "metadata": {},
   "outputs": [],
   "source": [
    "convert('urban-hound')"
   ]
  }
 ],
 "metadata": {
  "kernelspec": {
   "display_name": "Python 3",
   "language": "python",
   "name": "python3"
  },
  "language_info": {
   "codemirror_mode": {
    "name": "ipython",
    "version": 3
   },
   "file_extension": ".py",
   "mimetype": "text/x-python",
   "name": "python",
   "nbconvert_exporter": "python",
   "pygments_lexer": "ipython3",
   "version": "3.7.9"
  }
 },
 "nbformat": 4,
 "nbformat_minor": 5
}
