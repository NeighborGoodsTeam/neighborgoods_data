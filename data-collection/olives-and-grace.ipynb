{
 "cells": [
  {
   "cell_type": "code",
   "execution_count": 1,
   "id": "stretch-mixer",
   "metadata": {},
   "outputs": [],
   "source": [
    "import requests\n",
    "import pandas as pd\n",
    "import functions\n",
    "import json\n",
    "\n",
    "from bs4 import BeautifulSoup\n",
    "from googlemaps import Client"
   ]
  },
  {
   "cell_type": "code",
   "execution_count": 2,
   "id": "heavy-jamaica",
   "metadata": {},
   "outputs": [],
   "source": [
    "name = 'olives-and-grace'"
   ]
  },
  {
   "cell_type": "code",
   "execution_count": 24,
   "id": "differential-european",
   "metadata": {},
   "outputs": [],
   "source": [
    "res_list = [requests.get('https://www.olivesandgrace.com/collections/all?page=' + str(i)) for i in range(1, 8)]"
   ]
  },
  {
   "cell_type": "code",
   "execution_count": 25,
   "id": "abroad-dragon",
   "metadata": {},
   "outputs": [],
   "source": [
    "soup_list = [BeautifulSoup(res.content) for res in res_list]"
   ]
  },
  {
   "cell_type": "code",
   "execution_count": 26,
   "id": "vocational-messenger",
   "metadata": {},
   "outputs": [],
   "source": [
    "item_lists = [[h3.text for h3 in soup.find_all(name='h3') if h3.text != 'My Cart' and h3.text != 'Join our Mailing List'] for soup in soup_list]"
   ]
  },
  {
   "cell_type": "code",
   "execution_count": 27,
   "id": "underlying-environment",
   "metadata": {
    "collapsed": true,
    "jupyter": {
     "outputs_hidden": true
    }
   },
   "outputs": [
    {
     "data": {
      "text/plain": [
       "[['\"The Local Maker\" Gift Box',\n",
       "  'The Boston Mini Gift Box',\n",
       "  'Felt Flower Bouquet - A Gift That Gives Back!',\n",
       "  'Female Body Vase - Locally Made!',\n",
       "  'The Sofi Beanie - A Gift That Gives Back!',\n",
       "  'The Paola Beanie - A Gift That Gives Back!',\n",
       "  '\"No Place Like Boston\" Candle',\n",
       "  '\"I Fucking Love You\" Candle',\n",
       "  '\"ABC\" Baby Throw Blanket',\n",
       "  'The Olives & Grace Signature Candle  - Supporting Female Refugees',\n",
       "  'Locally Made Boston Honey - A Gift That Gives Back!',\n",
       "  'The Gratitude Journal',\n",
       "  'To-Go Glass Cup - Mint',\n",
       "  'To-Go Glass Cup - Cream',\n",
       "  'Craft Cocktail Syrup Set',\n",
       "  'Infuse - Mezcal & Tequila infusion and tasting kit',\n",
       "  '\"Rest & Relaxation\" Gift Box',\n",
       "  'Grapefruit Lemongrass Bath Soak Test Tube',\n",
       "  'Lavender Chamomile Bath Soak Test Tube',\n",
       "  'Squash Blossom Candle',\n",
       "  'Felt Rainbow Banner- A Gift That Gives Back!',\n",
       "  'Felt \"Sunshine\" Banner - A Gift That Gives Back!',\n",
       "  'Felt \"Dream\" Banner - A Gift That Gives Back!',\n",
       "  '\"With Sympathy\" Gift Box'],\n",
       " ['Party at Home -Boho Mixed Pom Pom Garland',\n",
       "  'Party at Home - Blush Flower Hanging Pom Poms',\n",
       "  'Party at Home - Blush Tassel Garland',\n",
       "  'Zeenat - Organic Handwoven Napkins - Set of 4',\n",
       "  'Amber Moroccan Cone Large Glasses - Woman Owned',\n",
       "  'Amber Moroccan Cone Small Glasses - Woman Owned',\n",
       "  'Moroccan Cone Pitcher - Woman-Owned',\n",
       "  'Seagrass Fair Trade Coasters- (Set of 4)',\n",
       "  'Seagrass Fair Trade Placemat - (Set of 4)',\n",
       "  'Boston Map Rocks Glass',\n",
       "  'Boston Map Insulated Mug',\n",
       "  '\"Mi Casa Es Su Casa\" Printed Tea Towel',\n",
       "  'Boston Tea Towel',\n",
       "  'Indu - Organic Handwoven Napkins - Set of 4',\n",
       "  'Ramabai - Organic Handwoven Napkins - Set of 4',\n",
       "  '\"Thank You and Enjoy\" Black and Red Tea Towel',\n",
       "  '\"Thank You and Enjoy\" Blue and Orange Tea Towel',\n",
       "  'Beeswax Duplero Taper Candle',\n",
       "  'Taper Candle Holder',\n",
       "  'Reusable Glass Water Bottle - Mint',\n",
       "  'Reusable Glass Water Bottle - Cream',\n",
       "  '\"The Good Old Days\" Canvas Banner',\n",
       "  '\"I Believe In Miracles\" Rainbow Canvas Banner',\n",
       "  'White Speckled Tumbler- Locally Made'],\n",
       " ['Large White Speckled Ceramic Mug  - Locally Made!',\n",
       "  '\"Girl Boss\" Zip Canvas Pouch',\n",
       "  'Santalum Roll On Perfume',\n",
       "  'Rose Quartz Facial Roller',\n",
       "  'Floral Sage Smudge Stick',\n",
       "  'Unicorn Pink Non-Toxic & Vegan Nail Polish',\n",
       "  'Milky Blue Non–Toxic & Vegan Nail Polish',\n",
       "  'Bright Red Non-Toxic & Vegan Nail Polish',\n",
       "  'Sheer Cream Parfait  Non-Toxic & Vegan Nail Polish',\n",
       "  'Bright Eyes- Collagen Hydrogel Under Eye Mask',\n",
       "  'Rosemary Mint Scrub Goat Milk Soap Bar',\n",
       "  'Oat and Goat Milk Soap Bar',\n",
       "  'Grapefruit and Lemon Goat Milk Soap Bar',\n",
       "  'Saalt Menstrual Cup - A Gift That Gives Back!',\n",
       "  'Lemongrass & Eucalyptus Dead Sea Bath Salt',\n",
       "  'Little Seed Farm - Elasticity Serum, 1 oz.',\n",
       "  'Lavender & Ylang Ylang Hydrating Soap',\n",
       "  'Santalum Reed Diffuser',\n",
       "  'Cucumber & Wild Mint Hand-Poured Candle (TOP SELLER)',\n",
       "  'Sweater Weather Candle',\n",
       "  'Chill Pill Stress Relief Candle',\n",
       "  'Blood Orange Candle',\n",
       "  'Arugula & Basil Hand-Poured Candle',\n",
       "  'Rustic Tomato Leaf Hand-Poured Candle'],\n",
       " ['\"Get Shit Done\" Candle',\n",
       "  'Incense Burner',\n",
       "  'Travel Backgammon Set',\n",
       "  'Ethically Made Piggy Bank - A Gift That Gives Back!',\n",
       "  'Knit Frida Kahlo Doll - A Gift That Gives Back!',\n",
       "  'Dr. Fauci Prayer Candle',\n",
       "  'Madam Vice President Kamal Harris Prayer Candle',\n",
       "  'AOC Alexandria Ocasio-Cortez',\n",
       "  'Ruth Bader Ginsburg (Notorious RBG) Prayer Candle',\n",
       "  'Felt Cherry Blossoms - A Gift That Gives Back!',\n",
       "  'Zinnia Felt Flowers - A Gift That Gives Back!',\n",
       "  'Felt Blooming Rose - A Gift That Gives Back!',\n",
       "  'Felt Anemone Flower - A Gift That Gives Back!',\n",
       "  'Georgia Earrings',\n",
       "  'Terra-cotta Moon Shadow Earring',\n",
       "  'Geometric Bracelet',\n",
       "  'Spike Dangle Earrings',\n",
       "  'Bitty Post Earrings',\n",
       "  'Sita Earrings',\n",
       "  'Asymmetrical Sheet Post',\n",
       "  'Sterling Silver Mom Necklace',\n",
       "  'Circle Hoops',\n",
       "  'Trails Earrings',\n",
       "  'Long Rod Post earrings'],\n",
       " ['Mini Bar Post Earrings - Sterling Silver',\n",
       "  '“Black Lives Matter” Face Mask',\n",
       "  'ART Every Day - Blue Hat',\n",
       "  '\"Be the Light\"',\n",
       "  '\"Your Voice Matters\" Enamel Pin',\n",
       "  'Zodiac Votive Candle',\n",
       "  'Dolly Parton Prayer Candle',\n",
       "  'House Speaker Nancy Pelosi Prayer Candle',\n",
       "  'Elizabeth Warren Prayer Candle',\n",
       "  'Broad City Celebrity Prayer Candle (Set of 2)',\n",
       "  'Beyonce  Prayer Candle',\n",
       "  'Kobe Bryant Prayer Candle',\n",
       "  '\"GAY GAY GAY\" Rainbow Ribbed Socks',\n",
       "  'VOTE Ribbed Socks',\n",
       "  '\"Boston\" Pennant Hard Enamel Pin',\n",
       "  'Cactus Enamel Keychain',\n",
       "  'Grid Picnic Plate (set of 4)',\n",
       "  'Black Leather Strap Backpack - Gender Neutral',\n",
       "  'Firewood Carrier',\n",
       "  'Unlined Black Leather Journal',\n",
       "  'Tan Leather Ring Clutch',\n",
       "  'The New Parent/ Baby Gift Box',\n",
       "  '\"Born To Be Loved\" Babygrow Shaped Paper Napkin - Pack of 16',\n",
       "  'Boston Onsie'],\n",
       " ['Watercolor Flower Swaddle',\n",
       "  'Dove Gray Swaddle',\n",
       "  'Rose Blush Leather T-Strap Baby Booties',\n",
       "  'Big Sky Blue Fringe Leather Baby Booties',\n",
       "  'Tan Camel Fringe Leather Baby Booties',\n",
       "  'Rainbow Heart Booties',\n",
       "  'Navy Blue Booties',\n",
       "  'Blush Stripped Booties',\n",
       "  'Black Leather Baby Moccasins',\n",
       "  'Bridesmaid Sleeping Mask',\n",
       "  'Kenyan Black Tea - A Gift That Gives Back!',\n",
       "  'Assorted Box Seacoast Sweets Chocolate - Locally Made - Top Seller!',\n",
       "  \"Flavor Family McCrea's Salted Caramels\",\n",
       "  'Trio: Burnt Sugar, Salted Rosemary, Espresso Chip',\n",
       "  \"Q's Nuts Sweet & Savory (Pack of 2)\",\n",
       "  '\"Thickness >Sickness\" Card (Pack of 5 Cards)',\n",
       "  '\"Not All Heroes Wear Capes\" Thank You - (Pack of 5)',\n",
       "  '\"Congrats on going after that Big Ass Goal\" Card - Pack of 5',\n",
       "  '\"If it\\'s Not a Hell Yes, it\\'s a Fuck No\" Card  - Pack of 5',\n",
       "  '\"Fame & Fortune, Health Care Worker Thank You\"  Card  - Pack of 5',\n",
       "  'Copy of \"Fame & Fortune, Teacher Thank You\"  Card  - Pack of 5',\n",
       "  'You Can Absolutely Do This Card - Pack of 5',\n",
       "  'Colorful \"Thank You\" Card - Pack of 5',\n",
       "  'Linear \"Thank You\" Card - Pack of 5'],\n",
       " ['\"Smart & Strong\" Sticker Card - Pack of 5',\n",
       "  '\"Brave & Brilliant\" Sticker Card - Pack of 5',\n",
       "  '\"Mom Boss\" Card Pack of 5',\n",
       "  '\"Happy Birthday to You\" - Pack of 5',\n",
       "  'Palm Sun \"Thank You\" Card - Pack of 5',\n",
       "  '\"I Learn So Much From Your Kind Heart\" Card - Pack of 5',\n",
       "  '\"Because Of You, I Am A Better Me\" Card - Pack of 5',\n",
       "  '\"You make me weak in the knees\" - Pack of 5',\n",
       "  '\"Thankful for YOU\" Card - Pack of 5',\n",
       "  '\"Cool + Kind\" Card - Pack of 5',\n",
       "  '\"Like No Other\" Card - Pack of 5',\n",
       "  '\"Hello You\" Card - Pack of 5',\n",
       "  'Curio Spice Blends']]"
      ]
     },
     "execution_count": 27,
     "metadata": {},
     "output_type": "execute_result"
    }
   ],
   "source": [
    "item_lists"
   ]
  },
  {
   "cell_type": "code",
   "execution_count": 28,
   "id": "million-necessity",
   "metadata": {},
   "outputs": [],
   "source": [
    "catalog = []\n",
    "\n",
    "for item_list in item_lists:\n",
    "    for item in item_list:\n",
    "        catalog.append(item)"
   ]
  },
  {
   "cell_type": "code",
   "execution_count": 30,
   "id": "forbidden-medicaid",
   "metadata": {},
   "outputs": [],
   "source": [
    "with open('../google_key.txt', 'r') as f:\n",
    "    google_key = f.read()\n",
    "\n",
    "google_api = Client(google_key)"
   ]
  },
  {
   "cell_type": "code",
   "execution_count": 31,
   "id": "august-guide",
   "metadata": {},
   "outputs": [],
   "source": [
    "place_search = google_api.places(\n",
    "    query='olive',\n",
    "    location=(42.342779089119304, -71.0744391871413),\n",
    "    type='establishment'\n",
    ")"
   ]
  },
  {
   "cell_type": "code",
   "execution_count": 32,
   "id": "international-seven",
   "metadata": {},
   "outputs": [],
   "source": [
    "place_result = place_search['results'][0]"
   ]
  },
  {
   "cell_type": "code",
   "execution_count": 33,
   "id": "breeding-labor",
   "metadata": {},
   "outputs": [],
   "source": [
    "place_entry = functions.entry_from_google(place_result)"
   ]
  },
  {
   "cell_type": "code",
   "execution_count": 35,
   "id": "planned-moldova",
   "metadata": {},
   "outputs": [],
   "source": [
    "place_entry['products'] = catalog"
   ]
  },
  {
   "cell_type": "code",
   "execution_count": null,
   "id": "convinced-reply",
   "metadata": {},
   "outputs": [],
   "source": [
    "Wednesday\n",
    "11AM–6PM\n",
    "\n",
    "Thursday\n",
    "11AM–6PM\n",
    "\n",
    "Friday\n",
    "11AM–6PM\n",
    "\n",
    "Saturday\n",
    "12AM–5PM\n",
    "\n",
    "Sunday\n",
    "Closed\n",
    "\n",
    "Monday\n",
    "11AM–6PM\n",
    "\n",
    "Tuesday\n",
    "11AM–6PM"
   ]
  },
  {
   "cell_type": "code",
   "execution_count": 36,
   "id": "adolescent-wrestling",
   "metadata": {},
   "outputs": [],
   "source": [
    "place_entry['phone'] = '+16172364536'\n",
    "place_entry['email'] = 'info@olivesandgrace.com'\n",
    "place_entry['url'] = 'https://www.olivesandgrace.com/'\n",
    "place_entry['description'] = 'Bright nook offering small-batch locavore food products & bespoke gift items, plus tastings.'\n",
    "place_entry['hours'] = {\n",
    "    'Monday' : (11, 18),\n",
    "    'Tuesday' : (11, 18),\n",
    "    'Wednesday' : (11, 18),\n",
    "    'Thursday' : (11, 18),\n",
    "    'Friday' : (11, 18),\n",
    "    'Saturday' : (12, 17),\n",
    "    'Sunday' : 'Closed'\n",
    "}"
   ]
  },
  {
   "cell_type": "code",
   "execution_count": 38,
   "id": "wired-deposit",
   "metadata": {},
   "outputs": [],
   "source": [
    "with open('../data/' + name + '.json', 'w') as f:\n",
    "    json.dump(place_entry, f)"
   ]
  }
 ],
 "metadata": {
  "kernelspec": {
   "display_name": "Python 3",
   "language": "python",
   "name": "python3"
  },
  "language_info": {
   "codemirror_mode": {
    "name": "ipython",
    "version": 3
   },
   "file_extension": ".py",
   "mimetype": "text/x-python",
   "name": "python",
   "nbconvert_exporter": "python",
   "pygments_lexer": "ipython3",
   "version": "3.7.9"
  }
 },
 "nbformat": 4,
 "nbformat_minor": 5
}
